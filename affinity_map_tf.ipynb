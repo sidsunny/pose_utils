{
 "cells": [
  {
   "cell_type": "code",
   "execution_count": 1,
   "metadata": {},
   "outputs": [],
   "source": [
    "# import tensorflow as tf\n",
    "import numpy as np\n",
    "import os\n",
    "import scipy.io as sio\n",
    "import matplotlib\n",
    "import matplotlib.pyplot as plt\n",
    "from mpl_toolkits.mplot3d import Axes3D\n",
    "import io\n",
    "from PIL import Image, ImageDraw\n",
    "from io import BytesIO\n",
    "import cv2\n",
    "import math\n",
    "%matplotlib inline"
   ]
  },
  {
   "cell_type": "code",
   "execution_count": 2,
   "metadata": {},
   "outputs": [],
   "source": [
    "limb_parents = [0, 0, 1, 2, 3, 1, 5, 6, 1, 0, 9, 10, 11, 0, 13, 14, 15]"
   ]
  },
  {
   "cell_type": "code",
   "execution_count": 3,
   "metadata": {},
   "outputs": [],
   "source": [
    "def skeleton_image(joints_2d, img):\n",
    "    img_copy = img.copy()\n",
    "#     colors = [(0,0,255), (0,255,0), (255,0,0), (255,0,255), (0,255,255), (255,255,0), (127,127,0), (0,127,0), (100,0,100), \n",
    "#           (255,0,255), (0,255,0), (0,0,255), (255,255,0), (127,127,0), (100,0,100), (50, 255, 100), (50, 50, 0)]\n",
    "    \n",
    "    colors = [(0,0,255), (0,255,0), (255,0,0), (255,0,255), (0,255,255), (255,255,0), (127,127,0), (0,127,0), (100,0,100), \n",
    "          (255,0,255), (0,255,0), (0,0,255), (255,255,0), (127,127,0), (100,0,100), (175,100,195), (255,125,25)]\n",
    "    joints_2d = joints_2d\n",
    "    for i in range(joints_2d.shape[0]):\n",
    "        #         ax.text(joints_2d[i, 0], -joints_2d[i, 1], str(i))\n",
    "        x_pair = [joints_2d[i, 0], joints_2d[limb_parents[i], 0]]\n",
    "        y_pair = [joints_2d[i, 1], joints_2d[limb_parents[i], 1]]\n",
    "        img_copy = cv2.line(img_copy, (int(x_pair[0]),int(y_pair[0])), (int(x_pair[1]),int(y_pair[1])), colors[i],4)\n",
    "\n",
    "    return img_copy[:,:,::-1]"
   ]
  },
  {
   "cell_type": "code",
   "execution_count": 4,
   "metadata": {},
   "outputs": [],
   "source": [
    "def get_gaussian_maps(mu, shape_hw, inv_std1, inv_std2, angles, mode='ankush'):\n",
    "    \"\"\"\n",
    "    Generates [B,SHAPE_H,SHAPE_W,NMAPS] tensor of 2D gaussians,\n",
    "    given the gaussian centers: MU [B, NMAPS, 2] tensor.\n",
    "\n",
    "    STD: is the fixed standard dev.\n",
    "    \"\"\"\n",
    "#   with tf.name_scope(None, 'gauss_map', [mu]):\n",
    "    mu_y, mu_x = mu[:, 0:1], mu[:, 1:2]     # (17, 1)\n",
    "\n",
    "#     y = tf.to_float(np.linspace(-1.0, 1.0, shape_hw[0]))\n",
    "\n",
    "#     x = tf.to_float(np.linspace(-1.0, 1.0, shape_hw[1]))\n",
    "    \n",
    "    \n",
    "    y = []\n",
    "    x = []\n",
    "    for i in range(shape_hw[0]):\n",
    "        y.append(np.linspace(-1.0, 1.0, shape_hw[0]))\n",
    "        x.append(np.linspace(-1.0, 1.0, shape_hw[1]))\n",
    "    y = np.stack(y, 0)\n",
    "    x = np.stack(x, 0).T\n",
    "    y = np.expand_dims(y, 0)\n",
    "    x = np.expand_dims(x, 0)\n",
    "    for i in range(mu.shape[0]-1):\n",
    "        y = np.concatenate([y, y[0:1]],0)\n",
    "        x = np.concatenate([x, x[0:1]],0)\n",
    "\n",
    "    print (x.shape)\n",
    "    print (y.shape)\n",
    "    if mode in ['rot', 'flat']:\n",
    "                \n",
    "        mu_y, mu_x = np.expand_dims(mu_y, -1), np.expand_dims(mu_x, -1)\n",
    "\n",
    "        g_y = np.square(y - mu_y)   # (17, 14, 14)\n",
    "        g_x = np.square(x - mu_x)   # (17, 14, 14)\n",
    "        \n",
    "        dist = (g_y * inv_std1**2 + g_x * inv_std2**2)\n",
    "\n",
    "        if mode == 'rot':\n",
    "            g_yx = np.exp(-dist)\n",
    "\n",
    "        else:\n",
    "            g_yx = np.exp(-np.pow(dist + 1e-5, 0.25))\n",
    "\n",
    "    else:\n",
    "        raise ValueError('Unknown mode: ' + str(mode))\n",
    "\n",
    "    print (g_yx.shape)\n",
    "#     g_yx = np.transpose(g_yx, axes=[1, 2, 0])\n",
    "    g_yx = np.transpose(g_yx, axes=[2, 1, 0])\n",
    "\n",
    "    return g_yx#, g_yx1"
   ]
  },
  {
   "cell_type": "code",
   "execution_count": 5,
   "metadata": {},
   "outputs": [],
   "source": [
    "def get_rot_gaussian_maps(mu_set, shape_hw, inv_std1, inv_std2, angles, mode='ankush'):\n",
    "    \"\"\"\n",
    "    Generates [B,SHAPE_H,SHAPE_W,NMAPS] tensor of 2D gaussians,\n",
    "    given the gaussian centers: MU [B, NMAPS, 2] tensor.\n",
    "\n",
    "    STD: is the fixed standard dev.\n",
    "    \"\"\"\n",
    "#   with tf.name_scope(None, 'gauss_map', [mu]):\n",
    "    im_len = len(mu_set)\n",
    "    inv_std1 = np.expand_dims(np.expand_dims(inv_std1, 1), 1)\n",
    "    inv_std2 = np.expand_dims(np.expand_dims(inv_std2, 1), 1)\n",
    "    gaussians = []\n",
    "    \n",
    "    for i in range(im_len):\n",
    "    \n",
    "        mu_y, mu_x = mu_set[i][:, 0:1], mu_set[i][:, 1:2]     # (17, 1)\n",
    "\n",
    "#     y = tf.to_float(np.linspace(-1.0, 1.0, shape_hw[0]))\n",
    "\n",
    "#     x = tf.to_float(np.linspace(-1.0, 1.0, shape_hw[1]))\n",
    "\n",
    "    \n",
    "        y = []\n",
    "        x = []\n",
    "        for _ in range(shape_hw[0]):\n",
    "            y.append(np.linspace(-1.0, 1.0, shape_hw[0]))\n",
    "            x.append(np.linspace(-1.0, 1.0, shape_hw[1]))\n",
    "        y = np.stack(y, 0)\n",
    "        x = np.stack(x, 0).T\n",
    "        y = np.expand_dims(y, 0)\n",
    "        x = np.expand_dims(x, 0)\n",
    "        for _ in range(mu_set[i].shape[0]-1):\n",
    "            y = np.concatenate([y, y[0:1]],0)\n",
    "            x = np.concatenate([x, x[0:1]],0)\n",
    "    \n",
    "        mu_y, mu_x = np.expand_dims(mu_y, -1), np.expand_dims(mu_x, -1)\n",
    "    \n",
    "        y = y - mu_y\n",
    "        x = x - mu_x\n",
    "        #print (y.shape)\n",
    "        #print (x.shape)\n",
    "        \n",
    "        if mode in ['rot', 'flat']:\n",
    "    \n",
    "        # apply rotation to the grid\n",
    "            yx_stacked = np.stack([y.reshape((mu_set[i].shape[0],-1)), x.reshape((mu_set[i].shape[0],-1))], 1)   # (17, 2, 196)\n",
    "            rot_mat = np.stack([ np.stack([np.cos(angles), np.sin(angles)],1), np.stack([-np.sin(angles), np.cos(angles)],1) ], 2)   # (17, 2, 2)\n",
    "\n",
    "            rotated = np.matmul(rot_mat, yx_stacked)   # (17, 2, 196)\n",
    "        \n",
    "            y_rot = rotated[:,0,:]   # (17, 196)\n",
    "            x_rot = rotated[:,1,:]   # (17, 196)\n",
    "                \n",
    "            y_rot = np.reshape(y_rot, (mu_set[i].shape[0],shape_hw[0],shape_hw[0]))   # (17, 14, 14)\n",
    "            x_rot = np.reshape(x_rot, (mu_set[i].shape[0],shape_hw[1],shape_hw[1]))   # (17, 14, 14)\n",
    "\n",
    "            g_y = np.square(y_rot)   # (17, 14, 14)\n",
    "            g_x = np.square(x_rot)   # (17, 14, 14)\n",
    "            \n",
    "            dist = (g_y * inv_std1**2 + g_x * inv_std2**2)\n",
    "            \n",
    "            if mode == 'rot':\n",
    "                g_yx = np.exp(-dist)\n",
    "            else:\n",
    "                g_yx = np.exp(-np.pow(dist + 1e-5, 0.25))\n",
    "\n",
    "        else:\n",
    "            raise ValueError('Unknown mode: ' + str(mode))\n",
    "            print (g_yx.shape)\n",
    "            #g_yx = g_yx[0:16,0:224,0:224]\n",
    "        #g_yx = np.transpose(g_yx, axes=[1, 2, 0])\n",
    "        print \"g_yx: \"\n",
    "        print (g_yx.shape)\n",
    "        g_yx = np.transpose(g_yx, axes=[2, 1, 0])\n",
    "        gaussians.append(g_yx)\n",
    "        #arr_shape0 = len(gaussians)\n",
    "    gaussians_arr = np.stack(gaussians,0)\n",
    "        #gaussians_arr = np.empty((arr_shape0, g_yx.shape[0], g_yx.shape[1], g_yx.shape[2]))\n",
    "\n",
    "    return gaussians_arr#, g_yx1"
   ]
  },
  {
   "cell_type": "code",
   "execution_count": 6,
   "metadata": {},
   "outputs": [],
   "source": [
    "def get_rot_gaussian_maps_new(mu_set, shape_hw, inv_std1, inv_std2, angles, mode='ankush'):\n",
    "    \"\"\"\n",
    "    Generates [B,SHAPE_H,SHAPE_W,NMAPS] tensor of 2D gaussians,\n",
    "    given the gaussian centers: MU [B, NMAPS, 2] tensor.\n",
    "\n",
    "    STD: is the fixed standard dev.\n",
    "    \"\"\"\n",
    "#   with tf.name_scope(None, 'gauss_map', [mu]):\n",
    "    im_len = mu_set.shape[0]\n",
    "    inv_std1 = tf.expand_dims(tf.expand_dims(inv_std1, 1), 1)\n",
    "    inv_std2 = tf.expand_dims(tf.expand_dims(inv_std2, 1), 1)\n",
    "    gaussians = []\n",
    "    \n",
    "    for i in range(im_len):\n",
    "    \n",
    "        mu_y, mu_x = mu_set[i][:, 0:1], mu_set[i][:, 1:2]     # (17, 1)\n",
    "\n",
    "#     y = tf.to_float(np.linspace(-1.0, 1.0, shape_hw[0]))\n",
    "\n",
    "#     x = tf.to_float(np.linspace(-1.0, 1.0, shape_hw[1]))\n",
    "\n",
    "    \n",
    "        y = []\n",
    "        x = []\n",
    "        for _ in range(shape_hw[0]):\n",
    "            y.append(np.linspace(-1.0, 1.0, shape_hw[0]))\n",
    "            x.append(np.linspace(-1.0, 1.0, shape_hw[1]))\n",
    "        y = np.stack(y, 0)\n",
    "        x = np.stack(x, 0).T\n",
    "        y = np.expand_dims(y, 0)\n",
    "        x = np.expand_dims(x, 0)\n",
    "        for _ in range(mu_set[i].shape[0]-1):\n",
    "            y = np.concatenate([y, y[0:1]],0)\n",
    "            x = np.concatenate([x, x[0:1]],0)\n",
    "        \n",
    "        y = tf.constant(y)\n",
    "        x = tf.constant(x)\n",
    "        mu_y, mu_x = tf.expand_dims(mu_y, -1), tf.expand_dims(mu_x, -1)\n",
    "    \n",
    "        y = y - mu_y\n",
    "        x = x - mu_x\n",
    "        #print (y.shape)\n",
    "        #print (x.shape)\n",
    "        \n",
    "        if mode in ['rot', 'flat']:\n",
    "    \n",
    "        # apply rotation to the grid\n",
    "            yx_stacked = tf.stack([tf.reshape(y,[mu_set[i].shape[0],-1]), tf.reshape(x, [mu_set[i].shape[0],-1])], 1)   # (17, 2, 196)\n",
    "            rot_mat = tf.stack([tf.stack([tf.cos(angles), tf.sin(angles)],1), tf.stack([-tf.sin(angles), tf.cos(angles)],1) ], 2)   # (17, 2, 2)\n",
    "\n",
    "            rotated = tf.matmul(rot_mat, yx_stacked)   # (17, 2, 196)\n",
    "        \n",
    "            y_rot = rotated[:,0,:]   # (17, 196)\n",
    "            x_rot = rotated[:,1,:]   # (17, 196)\n",
    "                \n",
    "            y_rot = tf.reshape(y_rot, [mu_set[i].shape[0],shape_hw[0],shape_hw[0]])   # (17, 14, 14)\n",
    "            x_rot = tf.reshape(x_rot, [mu_set[i].shape[0],shape_hw[1],shape_hw[1]])   # (17, 14, 14)\n",
    "\n",
    "            g_y = tf.square(y_rot)   # (17, 14, 14)\n",
    "            g_x = tf.square(x_rot)   # (17, 14, 14)\n",
    "            \n",
    "            dist = (g_y * inv_std1**2 + g_x * inv_std2**2)\n",
    "            \n",
    "            if mode == 'rot':\n",
    "                g_yx = tf.exp(-dist)\n",
    "            else:\n",
    "                g_yx = tf.exp(tf.pow(dist + 1e-5, 0.25))\n",
    "\n",
    "        else:\n",
    "            raise ValueError('Unknown mode: ' + str(mode))\n",
    "            #g_yx = g_yx[0:16,0:224,0:224]\n",
    "        #g_yx = np.transpose(g_yx, axes=[1, 2, 0])\n",
    "        g_yx = tf.transpose(g_yx, perm=[2, 1, 0])\n",
    "        gaussians.append(g_yx)\n",
    "        #arr_shape0 = len(gaussians)\n",
    "    gaussians_arr = tf.stack(gaussians,0)\n",
    "        #gaussians_arr = np.empty((arr_shape0, g_yx.shape[0], g_yx.shape[1], g_yx.shape[2]))\n",
    "\n",
    "    return gaussians_arr#, g_yx1"
   ]
  },
  {
   "cell_type": "code",
   "execution_count": 7,
   "metadata": {},
   "outputs": [],
   "source": [
    "def get_cropped_poses(img_orig_shape, mat_2d, img_size):\n",
    "\n",
    "    m_2d = mat_2d.copy()\n",
    "    \n",
    "    x_min = int(np.min(mat_2d[:, 0])) -10\n",
    "    x_max = int(np.max(mat_2d[:, 0])) + 10\n",
    "    y_min = int(np.min(mat_2d[:, 1])) - 10\n",
    "    y_max = int(np.max(mat_2d[:, 1])) + 10\n",
    "    \n",
    "    y_dist = y_max-y_min\n",
    "    \n",
    "    x_dist = x_max-x_min\n",
    "    \n",
    "    if y_dist > x_dist:\n",
    "        dist = (y_dist - x_dist)/2.0\n",
    "        dist = int(dist)\n",
    "        if (x_min-dist) < 0:\n",
    "            x_min_full = 0\n",
    "            x_max_full = y_dist\n",
    "        elif (x_max + dist)>(img_orig_shape[1]-1):\n",
    "                x_max_full = (img_orig_shape[1]-1)\n",
    "                x_min_full = x_max_full - y_dist\n",
    "        else:\n",
    "            x_min_full = x_min - dist\n",
    "            x_max_full = min(img_orig_shape[1]-1, x_min_full + y_dist)\n",
    "        ratio = float(img_size)/(x_max_full - x_min_full)\n",
    "        m_2d[:, 1] -= y_min\n",
    "        m_2d[:, 0] -= x_min_full\n",
    "    else:\n",
    "        dist = (x_dist - y_dist)/2.0\n",
    "        dist = int(dist)\n",
    "        if (y_min-dist) < 0:\n",
    "            y_min_full = 0\n",
    "            y_max_full = x_dist\n",
    "        elif (y_max + dist)>(img_orig_shape[0]-1):\n",
    "                y_max_full = (img_orig_shape[0]-1)\n",
    "                y_min_full = y_max_full - x_dist\n",
    "        else:\n",
    "            y_min_full = y_min - dist\n",
    "            y_max_full = min(img_orig_shape[0]-1, y_min_full + x_dist)\n",
    "        \n",
    "        img_center_crop_params = [y_min_full, y_max_full, x_min, x_max]\n",
    "        ratio = float(img_size)/(y_max_full - y_min_full)\n",
    "        m_2d[:, 1] -= y_min_full\n",
    "        m_2d[:, 0] -= x_min\n",
    "        \n",
    "    m_2d *= ratio\n",
    "    return m_2d"
   ]
  },
  {
   "cell_type": "code",
   "execution_count": 8,
   "metadata": {},
   "outputs": [],
   "source": [
    "target_folder1 = 'Jazz_Jazz1_C0_video_0_90_0'\n",
    "target_folder2 = 'HipHop_HipHop1_C0_video_45_135_1'\n",
    "target_folder3 = 'HipHop_HipHop1_C0_video_315_405_7'\n",
    "target_file_name1 = 'crop_params_92_358_90_356_0.png'\n",
    "target_file_name2 = 'crop_params_101_354_100_353_82.png'\n",
    "target_file_name3 = 'crop_params_94_366_118_390_89.png'\n",
    "target_file_name4 = 'crop_params_77_369_84_376_33.png'\n",
    "target_file_name5 = 'crop_params_128_370_112_354_85'\n",
    "target_file_name6 = 'crop_params_98_351_68_321_89.png'\n",
    "pose_path1 = '/data/vcl/sid/mads_parsed/parsed_data/poses_2d/Jazz_Jazz1_C0.mat'\n",
    "pose_path2 = '/data/vcl/sid/mads_parsed/parsed_data/poses_2d/HipHop_HipHop1_C0.mat'\n",
    "target_index_actual = int(target_file_name3.split('_')[-1].split('.')[0]) + int(target_folder1.split('_')[-3])\n",
    "pose_2d = sio.loadmat(pose_path1)['pose_2d'][target_index_actual]\n",
    "pose_2d = get_cropped_poses([384, 512], pose_2d, 224)"
   ]
  },
  {
   "cell_type": "code",
   "execution_count": 9,
   "metadata": {},
   "outputs": [],
   "source": [
    "# # pose_path = '/media/babu/disk2/Rakesh_local/vclab@10.24.50.3_mount/mads_parsed/parsed_data/poses_2d/Jazz_Jazz1_C0.mat'\n",
    "# pose_path = '/data/vcl/sid/mads_parsed/parsed_data/poses_2d/Jazz_Jazz1_C0.mat'\n",
    "# poses_2d = sio.loadmat(pose_path)['pose_2d']\n",
    "# pose_2d = poses_2d[0:1]"
   ]
  },
  {
   "cell_type": "code",
   "execution_count": 10,
   "metadata": {},
   "outputs": [
    {
     "data": {
      "text/plain": [
       "(17, 2)"
      ]
     },
     "execution_count": 10,
     "metadata": {},
     "output_type": "execute_result"
    }
   ],
   "source": [
    "pose_2d.shape"
   ]
  },
  {
   "cell_type": "code",
   "execution_count": 11,
   "metadata": {},
   "outputs": [
    {
     "data": {
      "text/plain": [
       "<matplotlib.image.AxesImage at 0x7fcbc6b77b90>"
      ]
     },
     "execution_count": 11,
     "metadata": {},
     "output_type": "execute_result"
    },
    {
     "data": {
      "image/png": "[encoded data removed]",
      "text/plain": [
       "<Figure size 432x288 with 1 Axes>"
      ]
     },
     "metadata": {
      "needs_background": "light"
     },
     "output_type": "display_data"
    }
   ],
   "source": [
    "img = np.zeros((224,224,3))\n",
    "skltn_img = skeleton_image(pose_2d, img)\n",
    "plt.imshow(skltn_img[:,:,::-1])"
   ]
  },
  {
   "cell_type": "code",
   "execution_count": 12,
   "metadata": {},
   "outputs": [
    {
     "data": {
      "text/plain": [
       "array([[100.46611489,  97.28156355],\n",
       "       [ 94.35242665,  46.87259289],\n",
       "       [ 85.49755821,  45.47078988],\n",
       "       [ 95.2219646 ,  81.07977021],\n",
       "       [ 99.09455041, 105.70685523],\n",
       "       [113.48185025,  43.41231531],\n",
       "       [130.08321687,  78.26167796],\n",
       "       [138.73224165,  52.61351302],\n",
       "       [105.67557311,   9.61864011],\n",
       "       [ 93.85393648,  96.53380567],\n",
       "       [120.68226203, 152.37611742],\n",
       "       [104.93874305, 206.75058341],\n",
       "       [125.15487458, 215.68241967],\n",
       "       [106.77405889,  97.98813603],\n",
       "       [118.09272993, 155.64993745],\n",
       "       [ 91.06096901, 201.14149876],\n",
       "       [120.6481871 , 203.40934387]])"
      ]
     },
     "execution_count": 12,
     "metadata": {},
     "output_type": "execute_result"
    }
   ],
   "source": [
    "pose_2d"
   ]
  },
  {
   "cell_type": "code",
   "execution_count": 13,
   "metadata": {},
   "outputs": [
    {
     "data": {
      "text/plain": [
       "array([[-0.13141461, -0.10298112],\n",
       "       [-0.58149471, -0.15756762],\n",
       "       [-0.5940108 , -0.23662894],\n",
       "       [-0.27607348, -0.14980389],\n",
       "       [-0.05618879, -0.11522723],\n",
       "       [-0.61239004,  0.01323081],\n",
       "       [-0.30123502,  0.16145729],\n",
       "       [-0.53023649,  0.23868073],\n",
       "       [-0.91411928, -0.0564681 ],\n",
       "       [-0.13809102, -0.16201842],\n",
       "       [ 0.36050105,  0.0775202 ],\n",
       "       [ 0.84598735, -0.06304694],\n",
       "       [ 0.92573589,  0.11745424],\n",
       "       [-0.12510593, -0.04666019],\n",
       "       [ 0.38973158,  0.05439937],\n",
       "       [ 0.79590624, -0.18695563],\n",
       "       [ 0.81615486,  0.07721596]])"
      ]
     },
     "execution_count": 13,
     "metadata": {},
     "output_type": "execute_result"
    }
   ],
   "source": [
    "scaled_pose = (pose_2d - 0.)*2./224. - 1.\n",
    "# scaled_pose = (pose_2d[0] - 0.)*14./512.\n",
    "map_pose = np.stack([scaled_pose[:,1], scaled_pose[:,0]],1)\n",
    "map_pose"
   ]
  },
  {
   "cell_type": "code",
   "execution_count": 14,
   "metadata": {
    "scrolled": true
   },
   "outputs": [
    {
     "data": {
      "text/plain": [
       "(17, 2)"
      ]
     },
     "execution_count": 14,
     "metadata": {},
     "output_type": "execute_result"
    }
   ],
   "source": [
    "scaled_pose.shape"
   ]
  },
  {
   "cell_type": "code",
   "execution_count": 15,
   "metadata": {},
   "outputs": [],
   "source": [
    "def get_limb_centers(joints_2d):\n",
    "\n",
    "    limbs = []\n",
    "    angles = []\n",
    "    limb_length = []\n",
    "    for i in range(1, joints_2d.shape[0]):\n",
    "        #         ax.text(joints_2d[i, 0], -joints_2d[i, 1], str(i))\n",
    "        x_pair = [joints_2d[i, 0], joints_2d[limb_parents[i], 0]]\n",
    "        y_pair = [joints_2d[i, 1], joints_2d[limb_parents[i], 1]]\n",
    "        limbs.append([(x_pair[0]+x_pair[1])/2., (y_pair[0]+y_pair[1])/2.])\n",
    "        limb_length.append(np.sqrt((x_pair[0]-x_pair[1])**2 + (y_pair[0]-y_pair[1])**2))\n",
    "        # calculate slope, m = tan(theta)\n",
    "        angles.append([(x_pair[0]-x_pair[1]), (y_pair[0]-y_pair[1])]) # because y is represented as x\n",
    "    angles = np.array(angles)\n",
    "    print (angles.shape)\n",
    "    angles = np.arctan2(angles[:,0],angles[:,1]+1e-7)\n",
    "    limbs = np.array(limbs)\n",
    "    limb_length = np.array(limb_length)\n",
    "    return limbs, angles, limb_length"
   ]
  },
  {
   "cell_type": "code",
   "execution_count": 16,
   "metadata": {},
   "outputs": [
    {
     "name": "stdout",
     "output_type": "stream",
     "text": [
      "(16, 2)\n"
     ]
    }
   ],
   "source": [
    "limb_centers_yx, angles, limb_length = get_limb_centers(map_pose)"
   ]
  },
  {
   "cell_type": "code",
   "execution_count": 17,
   "metadata": {},
   "outputs": [
    {
     "data": {
      "text/plain": [
       "(16, 2)"
      ]
     },
     "execution_count": 17,
     "metadata": {},
     "output_type": "execute_result"
    }
   ],
   "source": [
    "limb_centers_yx.shape"
   ]
  },
  {
   "cell_type": "code",
   "execution_count": 18,
   "metadata": {},
   "outputs": [
    {
     "data": {
      "text/plain": [
       "array([[-0.35645466, -0.13027437],\n",
       "       [-0.58775276, -0.19709828],\n",
       "       [-0.43504214, -0.19321642],\n",
       "       [-0.16613114, -0.13251556],\n",
       "       [-0.59694237, -0.07216841],\n",
       "       [-0.45681253,  0.08734405],\n",
       "       [-0.41573575,  0.20006901],\n",
       "       [-0.747807  , -0.10701786],\n",
       "       [-0.13475282, -0.13249977],\n",
       "       [ 0.11120501, -0.04224911],\n",
       "       [ 0.6032442 ,  0.00723663],\n",
       "       [ 0.88586162,  0.02720365],\n",
       "       [-0.12826027, -0.07482065],\n",
       "       [ 0.13231283,  0.00386959],\n",
       "       [ 0.59281891, -0.06627813],\n",
       "       [ 0.80603055, -0.05486984]])"
      ]
     },
     "execution_count": 18,
     "metadata": {},
     "output_type": "execute_result"
    }
   ],
   "source": [
    "limb_centers_yx"
   ]
  },
  {
   "cell_type": "code",
   "execution_count": 19,
   "metadata": {},
   "outputs": [
    {
     "data": {
      "text/plain": [
       "(16,)"
      ]
     },
     "execution_count": 19,
     "metadata": {},
     "output_type": "execute_result"
    }
   ],
   "source": [
    "angles.shape"
   ]
  },
  {
   "cell_type": "code",
   "execution_count": 20,
   "metadata": {},
   "outputs": [
    {
     "data": {
      "text/plain": [
       "array([0.45337818, 0.0800459 , 0.32957963, 0.22258666, 0.17357023,\n",
       "       0.34465713, 0.24167154, 0.34764957, 0.05941362, 0.55314808,\n",
       "       0.50542662, 0.19733348, 0.05667315, 0.52466246, 0.47247232,\n",
       "       0.26494648])"
      ]
     },
     "execution_count": 20,
     "metadata": {},
     "output_type": "execute_result"
    }
   ],
   "source": [
    "limb_length"
   ]
  },
  {
   "cell_type": "code",
   "execution_count": 48,
   "metadata": {},
   "outputs": [
    {
     "name": "stdout",
     "output_type": "stream",
     "text": [
      "(16, 14, 14)\n",
      "(16, 14, 14)\n",
      "(16, 14, 14)\n"
     ]
    }
   ],
   "source": [
    "gauss_map1 = get_gaussian_maps(limb_centers_yx, [14,14], 10., 10., angles, mode='rot')"
   ]
  },
  {
   "cell_type": "code",
   "execution_count": 49,
   "metadata": {},
   "outputs": [
    {
     "data": {
      "text/plain": [
       "<matplotlib.image.AxesImage at 0x7fcbc616fb10>"
      ]
     },
     "execution_count": 49,
     "metadata": {},
     "output_type": "execute_result"
    },
    {
     "data": {
      "image/png": "[encoded data removed]",
      "text/plain": [
       "<Figure size 432x288 with 1 Axes>"
      ]
     },
     "metadata": {
      "needs_background": "light"
     },
     "output_type": "display_data"
    }
   ],
   "source": [
    "plt.imshow(np.sum(gauss_map1[:,:,:],2))"
   ]
  },
  {
   "cell_type": "code",
   "execution_count": 50,
   "metadata": {},
   "outputs": [
    {
     "data": {
      "text/plain": [
       "<matplotlib.image.AxesImage at 0x7fcbc5fad150>"
      ]
     },
     "execution_count": 50,
     "metadata": {},
     "output_type": "execute_result"
    },
    {
     "data": {
      "image/png": "[encoded data removed]",
      "text/plain": [
       "<Figure size 432x288 with 1 Axes>"
      ]
     },
     "metadata": {
      "needs_background": "light"
     },
     "output_type": "display_data"
    }
   ],
   "source": [
    "plt.imshow(gauss_map1[:,:,15])"
   ]
  },
  {
   "cell_type": "code",
   "execution_count": 23,
   "metadata": {},
   "outputs": [],
   "source": [
    "# decreasing the value of ratio increases the length of the gaussian\n",
    "length_ratios1 = np.array([2., 3., 2., 2.5, 3., 2., 2.5, 3.,\n",
    "                          1.25, 2.5, 2.5, 1.75, 1.25, 2.5, 2.5, 1.75])\n",
    "length_ratios = np.ones_like(length_ratios1)*2.\n",
    "# decreasing the value of ratio increases the width of the gaussian\n",
    "width_ratios = np.array([8., 25., 20., 25., 25., 20., 25., 12.,\n",
    "                          20., 15., 20., 20., 20., 15., 20., 20.])"
   ]
  },
  {
   "cell_type": "code",
   "execution_count": 53,
   "metadata": {
    "scrolled": true
   },
   "outputs": [
    {
     "name": "stdout",
     "output_type": "stream",
     "text": [
      "g_yx: \n",
      "(16, 28, 28)\n",
      "g_yx: \n",
      "(16, 28, 28)\n",
      "g_yx: \n",
      "(16, 28, 28)\n",
      "g_yx: \n",
      "(16, 28, 28)\n"
     ]
    }
   ],
   "source": [
    "list_centers_list = [limb_centers_yx,limb_centers_yx,limb_centers_yx,limb_centers_yx]\n",
    "list_centers_arr = np.stack(list_centers_list,0)\n",
    "rot_gauss_map1 = get_rot_gaussian_maps(list_centers_arr, [28,28], width_ratios, length_ratios / limb_length, angles, mode='rot')"
   ]
  },
  {
   "cell_type": "code",
   "execution_count": 54,
   "metadata": {},
   "outputs": [
    {
     "data": {
      "text/plain": [
       "<matplotlib.image.AxesImage at 0x7fcbc5e855d0>"
      ]
     },
     "execution_count": 54,
     "metadata": {},
     "output_type": "execute_result"
    },
    {
     "data": {
      "image/png": "[encoded data removed]",
      "text/plain": [
       "<Figure size 432x288 with 1 Axes>"
      ]
     },
     "metadata": {
      "needs_background": "light"
     },
     "output_type": "display_data"
    }
   ],
   "source": [
    "plt.imshow(rot_gauss_map1[1][:,:,1])"
   ]
  },
  {
   "cell_type": "code",
   "execution_count": 55,
   "metadata": {},
   "outputs": [
    {
     "data": {
      "text/plain": [
       "<matplotlib.image.AxesImage at 0x7fcbc5dfb310>"
      ]
     },
     "execution_count": 55,
     "metadata": {},
     "output_type": "execute_result"
    },
    {
     "data": {
      "image/png": "[encoded data removed]",
      "text/plain": [
       "<Figure size 432x288 with 1 Axes>"
      ]
     },
     "metadata": {
      "needs_background": "light"
     },
     "output_type": "display_data"
    }
   ],
   "source": [
    "plt.imshow(np.sum(rot_gauss_map1[1][:,:,:],2))"
   ]
  },
  {
   "cell_type": "code",
   "execution_count": 52,
   "metadata": {},
   "outputs": [
    {
     "data": {
      "text/plain": [
       "<matplotlib.image.AxesImage at 0x7fcad1743210>"
      ]
     },
     "execution_count": 52,
     "metadata": {},
     "output_type": "execute_result"
    },
    {
     "data": {
      "image/png": "[encoded data removed]",
      "text/plain": [
       "<Figure size 432x288 with 1 Axes>"
      ]
     },
     "metadata": {
      "needs_background": "light"
     },
     "output_type": "display_data"
    }
   ],
   "source": [
    "plt.imshow(np.sum(rot_gauss_map1[:,:,:],2))"
   ]
  },
  {
   "cell_type": "code",
   "execution_count": 53,
   "metadata": {},
   "outputs": [
    {
     "data": {
      "text/plain": [
       "<matplotlib.image.AxesImage at 0x7fcad16b2890>"
      ]
     },
     "execution_count": 53,
     "metadata": {},
     "output_type": "execute_result"
    },
    {
     "data": {
      "image/png": "[encoded data removed]",
      "text/plain": [
       "<Figure size 432x288 with 1 Axes>"
      ]
     },
     "metadata": {
      "needs_background": "light"
     },
     "output_type": "display_data"
    }
   ],
   "source": [
    "plt.imshow(np.sum(rot_gauss_map1[:,:,:],2))"
   ]
  },
  {
   "cell_type": "code",
   "execution_count": 54,
   "metadata": {},
   "outputs": [
    {
     "data": {
      "text/plain": [
       "<matplotlib.image.AxesImage at 0x7fcad1693ed0>"
      ]
     },
     "execution_count": 54,
     "metadata": {},
     "output_type": "execute_result"
    },
    {
     "data": {
      "image/png": "[encoded data removed]",
      "text/plain": [
       "<Figure size 432x288 with 1 Axes>"
      ]
     },
     "metadata": {
      "needs_background": "light"
     },
     "output_type": "display_data"
    }
   ],
   "source": [
    "plt.imshow(np.sum(rot_gauss_map1[:,:,:],2))"
   ]
  },
  {
   "cell_type": "code",
   "execution_count": 55,
   "metadata": {},
   "outputs": [
    {
     "data": {
      "text/plain": [
       "<matplotlib.image.AxesImage at 0x7fcad15fa5d0>"
      ]
     },
     "execution_count": 55,
     "metadata": {},
     "output_type": "execute_result"
    },
    {
     "data": {
      "image/png": "[encoded data removed]",
      "text/plain": [
       "<Figure size 432x288 with 1 Axes>"
      ]
     },
     "metadata": {
      "needs_background": "light"
     },
     "output_type": "display_data"
    }
   ],
   "source": [
    "plt.imshow(np.sum(rot_gauss_map1[:,:,:],2))"
   ]
  },
  {
   "cell_type": "code",
   "execution_count": 56,
   "metadata": {},
   "outputs": [
    {
     "data": {
      "text/plain": [
       "<matplotlib.image.AxesImage at 0x7fcad156ac50>"
      ]
     },
     "execution_count": 56,
     "metadata": {},
     "output_type": "execute_result"
    },
    {
     "data": {
      "image/png": "[encoded data removed]",
      "text/plain": [
       "<Figure size 432x288 with 1 Axes>"
      ]
     },
     "metadata": {
      "needs_background": "light"
     },
     "output_type": "display_data"
    }
   ],
   "source": [
    "plt.imshow(np.sum(rot_gauss_map1[:,:,:],2))"
   ]
  },
  {
   "cell_type": "code",
   "execution_count": 57,
   "metadata": {},
   "outputs": [
    {
     "data": {
      "text/plain": [
       "<matplotlib.image.AxesImage at 0x7fcad14e6310>"
      ]
     },
     "execution_count": 57,
     "metadata": {},
     "output_type": "execute_result"
    },
    {
     "data": {
      "image/png": "[encoded data removed]",
      "text/plain": [
       "<Figure size 432x288 with 1 Axes>"
      ]
     },
     "metadata": {
      "needs_background": "light"
     },
     "output_type": "display_data"
    }
   ],
   "source": [
    "plt.imshow(np.sum(rot_gauss_map1[:,:,:],2))"
   ]
  },
  {
   "cell_type": "code",
   "execution_count": 58,
   "metadata": {},
   "outputs": [
    {
     "data": {
      "text/plain": [
       "<matplotlib.image.AxesImage at 0x7fcad14d8990>"
      ]
     },
     "execution_count": 58,
     "metadata": {},
     "output_type": "execute_result"
    },
    {
     "data": {
      "image/png": "[encoded data removed]",
      "text/plain": [
       "<Figure size 432x288 with 1 Axes>"
      ]
     },
     "metadata": {
      "needs_background": "light"
     },
     "output_type": "display_data"
    }
   ],
   "source": [
    "plt.imshow(np.sum(rot_gauss_map1[:,:,:],2))"
   ]
  },
  {
   "cell_type": "code",
   "execution_count": 59,
   "metadata": {},
   "outputs": [
    {
     "data": {
      "text/plain": [
       "<matplotlib.image.AxesImage at 0x7fcad1457050>"
      ]
     },
     "execution_count": 59,
     "metadata": {},
     "output_type": "execute_result"
    },
    {
     "data": {
      "image/png": "[encoded data removed]",
      "text/plain": [
       "<Figure size 432x288 with 1 Axes>"
      ]
     },
     "metadata": {
      "needs_background": "light"
     },
     "output_type": "display_data"
    }
   ],
   "source": [
    "plt.imshow(np.sum(rot_gauss_map1[:,:,:],2))"
   ]
  },
  {
   "cell_type": "code",
   "execution_count": 139,
   "metadata": {},
   "outputs": [],
   "source": [
    "list_centers_list = [limb_centers_yx,limb_centers_yx,limb_centers_yx,limb_centers_yx]\n",
    "list_centers_arr = np.stack(list_centers_list,0)\n",
    "rot_gauss_map1 = get_rot_gaussian_maps_new(list_centers_arr, [224,224], width_ratios, length_ratios / limb_length, angles, mode='rot')"
   ]
  },
  {
   "cell_type": "code",
   "execution_count": 140,
   "metadata": {},
   "outputs": [],
   "source": [
    "import tensorflow as tf"
   ]
  },
  {
   "cell_type": "code",
   "execution_count": 149,
   "metadata": {},
   "outputs": [
    {
     "data": {
      "text/plain": [
       "array([[1.44315533e-022, 1.31497885e-221, 9.86027711e-079, ...,\n",
       "        6.03742451e-069, 0.00000000e+000, 0.00000000e+000],\n",
       "       [3.62785081e-022, 1.00352489e-217, 8.51406719e-077, ...,\n",
       "        1.32080983e-067, 0.00000000e+000, 0.00000000e+000],\n",
       "       [9.02733291e-022, 6.92660229e-214, 6.92149130e-075, ...,\n",
       "        2.79032400e-066, 0.00000000e+000, 0.00000000e+000],\n",
       "       ...,\n",
       "       [1.07215314e-041, 0.00000000e+000, 2.18201112e-287, ...,\n",
       "        1.07809602e-141, 2.70030331e-030, 0.00000000e+000],\n",
       "       [2.83387408e-042, 0.00000000e+000, 3.07710860e-291, ...,\n",
       "        1.04505688e-143, 1.12334428e-030, 0.00000000e+000],\n",
       "       [7.41443349e-043, 0.00000000e+000, 4.08548236e-295, ...,\n",
       "        9.78246227e-146, 4.45279634e-031, 0.00000000e+000]])"
      ]
     },
     "execution_count": 149,
     "metadata": {},
     "output_type": "execute_result"
    }
   ],
   "source": [
    "gpu_options = tf.GPUOptions(allow_growth=True)\n",
    "session = tf.InteractiveSession(config=tf.ConfigProto(gpu_options=gpu_options))\n",
    "session.run(rot_gauss_map1[0][0])"
   ]
  },
  {
   "cell_type": "code",
   "execution_count": null,
   "metadata": {},
   "outputs": [],
   "source": []
  }
 ],
 "metadata": {
  "kernelspec": {
   "display_name": "rahul",
   "language": "python",
   "name": "rahul"
  },
  "language_info": {
   "codemirror_mode": {
    "name": "ipython",
    "version": 2
   },
   "file_extension": ".py",
   "mimetype": "text/x-python",
   "name": "python",
   "nbconvert_exporter": "python",
   "pygments_lexer": "ipython2",
   "version": "2.7.12"
  },
  "varInspector": {
   "cols": {
    "lenName": 16,
    "lenType": 16,
    "lenVar": 40
   },
   "kernels_config": {
    "python": {
     "delete_cmd_postfix": "",
     "delete_cmd_prefix": "del ",
     "library": "var_list.py",
     "varRefreshCmd": "print(var_dic_list())"
    },
    "r": {
     "delete_cmd_postfix": ") ",
     "delete_cmd_prefix": "rm(",
     "library": "var_list.r",
     "varRefreshCmd": "cat(var_dic_list()) "
    }
   },
   "types_to_exclude": [
    "module",
    "function",
    "builtin_function_or_method",
    "instance",
    "_Feature"
   ],
   "window_display": false
  }
 },
 "nbformat": 4,
 "nbformat_minor": 2
}
